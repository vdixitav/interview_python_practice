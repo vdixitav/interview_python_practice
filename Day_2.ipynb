{
 "cells": [
  {
   "cell_type": "code",
   "execution_count": 1,
   "metadata": {},
   "outputs": [],
   "source": [
    "# write for accept some string from keyboard and display its char.by index wise(both positive and negative)\n"
   ]
  },
  {
   "cell_type": "code",
   "execution_count": 8,
   "metadata": {},
   "outputs": [
    {
     "name": "stdout",
     "output_type": "stream",
     "text": [
      "the chr.of string is :+ve 0,-ve-7 id d\n",
      "the chr.of string is :+ve 1,-ve-6 id i\n",
      "the chr.of string is :+ve 2,-ve-5 id x\n",
      "the chr.of string is :+ve 3,-ve-4 id i\n",
      "the chr.of string is :+ve 4,-ve-3 id t\n",
      "the chr.of string is :+ve 5,-ve-2 id h\n",
      "the chr.of string is :+ve 6,-ve-1 id a\n"
     ]
    }
   ],
   "source": [
    "s=input(\"enter the string:\")\n",
    "i=0\n",
    "\n",
    "for x in s:\n",
    "    print(\"the chr.of string is :+ve {},-ve{} id {}\".format (i,i-len(s),x))\n",
    "    i=i+1"
   ]
  },
  {
   "cell_type": "code",
   "execution_count": 7,
   "metadata": {},
   "outputs": [
    {
     "name": "stdout",
     "output_type": "stream",
     "text": [
      "the positive index is : 0, the negative index is : -7\n",
      "the positive index is : 1, the negative index is : -6\n",
      "the positive index is : 2, the negative index is : -5\n",
      "the positive index is : 3, the negative index is : -4\n",
      "the positive index is : 4, the negative index is : -3\n",
      "the positive index is : 5, the negative index is : -2\n",
      "the positive index is : 6, the negative index is : -1\n"
     ]
    }
   ],
   "source": [
    "s=input(\"enter string:\")\n",
    "i=0\n",
    "\n",
    "for x in s:\n",
    "    print(\"the positive index is : {}, the negative index is : {}\".format(i,i-len(s)))\n",
    "    i=i+1\n",
    "\n"
   ]
  },
  {
   "cell_type": "code",
   "execution_count": 11,
   "metadata": {},
   "outputs": [
    {
     "name": "stdout",
     "output_type": "stream",
     "text": [
      "forword direction\n",
      "l e a r n i n g   p y t h o n   i s   e a s y backword direction\n",
      "y s a e   s i   n o h t y p   g n i n r a e l "
     ]
    }
   ],
   "source": [
    "# write programme of each char of word forword and backword direction\n",
    "\n",
    "s=\"learning python is easy\"\n",
    "\n",
    "print(\"forword direction\")\n",
    "\n",
    "for i in s [::]:\n",
    "    print(i,end=\" \")\n",
    "\n",
    "\n",
    "print(\"backword direction\")\n",
    "\n",
    "for i in s [::-1]:\n",
    "    print(i,end=\" \")\n",
    "\n"
   ]
  },
  {
   "cell_type": "code",
   "execution_count": 14,
   "metadata": {},
   "outputs": [
    {
     "name": "stdout",
     "output_type": "stream",
     "text": [
      "dixitha fond in main string\n"
     ]
    }
   ],
   "source": [
    "# Checking Membership\n",
    "# with the help of in and not in \n",
    "\n",
    "\n",
    "s=\"dixitha\"\n",
    "s1=\"dixitha\" # s1=\"vaibhav\"\n",
    "\n",
    "\n",
    "if s1 in s:\n",
    "    print(s1,\"fond in main string\")\n",
    "\n",
    "else:\n",
    "    print(\"not found\")    "
   ]
  },
  {
   "cell_type": "code",
   "execution_count": 16,
   "metadata": {},
   "outputs": [
    {
     "name": "stdout",
     "output_type": "stream",
     "text": [
      "both are siblings\n"
     ]
    }
   ],
   "source": [
    "# Comparision of string\n",
    "\n",
    "s1=\"dixitha\"\n",
    "s2=\"vaishnav\"\n",
    "s3=\"dixitha\"\n",
    "\n",
    "if s1==s3: # s1==s2\n",
    "    print(\"both are siblings\")\n",
    "\n",
    "else:\n",
    "    print(\"not siblings\")    "
   ]
  },
  {
   "cell_type": "code",
   "execution_count": 18,
   "metadata": {},
   "outputs": [
    {
     "name": "stdout",
     "output_type": "stream",
     "text": [
      "m\n"
     ]
    }
   ],
   "source": [
    "s1=\"dixitha\"\n",
    "s2=\"vaishnav\"\n",
    "s3=\"dixitha\"\n",
    "\n",
    "if s1>s3:\n",
    "    print(\"its me\")\n",
    "\n",
    "else:\n",
    "    print(\"m\")    "
   ]
  },
  {
   "cell_type": "code",
   "execution_count": 24,
   "metadata": {},
   "outputs": [
    {
     "name": "stdout",
     "output_type": "stream",
     "text": [
      "  manu  \n"
     ]
    }
   ],
   "source": [
    "# removing space from string\n",
    "# with the help of three methods\n",
    "\n",
    "#1) rstrip()=to remove space at right hand\n",
    "#2) lspace()= to remove space at left hand\n",
    "#3) strip()= to remove space in both side\n",
    "\n",
    "\n",
    "\n",
    "name=input('Enter name:')\n",
    "\n",
    "n=name.lstrip()\n",
    "print(name)\n",
    "\n"
   ]
  },
  {
   "cell_type": "code",
   "execution_count": 27,
   "metadata": {},
   "outputs": [
    {
     "name": "stdout",
     "output_type": "stream",
     "text": [
      "-1\n"
     ]
    }
   ],
   "source": [
    "# finding sub string\n",
    "\n",
    "#1) find()\n",
    "\n",
    "s=\"learning    python is very very easy task!!!!!!!\"\n",
    "\n",
    "print(s.find(\"me\"))"
   ]
  },
  {
   "cell_type": "code",
   "execution_count": 28,
   "metadata": {},
   "outputs": [
    {
     "name": "stdout",
     "output_type": "stream",
     "text": [
      "12\n"
     ]
    }
   ],
   "source": [
    "print(s.find(\"python\"))"
   ]
  },
  {
   "cell_type": "code",
   "execution_count": 29,
   "metadata": {},
   "outputs": [
    {
     "name": "stdout",
     "output_type": "stream",
     "text": [
      "PYTHON IS VERY EASY TO LEARN\n",
      "python is very easy to learn\n",
      "PYTHON IS VERY EASY TO LEARN\n",
      "Python Is Very Easy To Learn\n",
      "Python is very easy to learn\n"
     ]
    }
   ],
   "source": [
    "# changing the case of string\n",
    "\n",
    "s='python is very easy to learn'\n",
    "print(s.upper())\n",
    "print(s.lower())\n",
    "print(s.swapcase())\n",
    "print(s.title())\n",
    "print(s.capitalize())"
   ]
  },
  {
   "cell_type": "code",
   "execution_count": 30,
   "metadata": {},
   "outputs": [
    {
     "name": "stdout",
     "output_type": "stream",
     "text": [
      "dixitha's salary is 1500000 and her age is 30\n"
     ]
    }
   ],
   "source": [
    "# formatting string\n",
    "\n",
    "\n",
    "name=\"dixitha\"\n",
    "salary=1500000\n",
    "age='30'\n",
    "\n",
    "print(\"{}'s salary is {} and her age is {}\".format(name,salary,age))\n",
    "\n"
   ]
  },
  {
   "cell_type": "markdown",
   "metadata": {},
   "source": [
    "# importat programme for string"
   ]
  },
  {
   "cell_type": "markdown",
   "metadata": {},
   "source": [
    "1) reverse the string"
   ]
  },
  {
   "cell_type": "code",
   "execution_count": 33,
   "metadata": {},
   "outputs": [
    {
     "name": "stdout",
     "output_type": "stream",
     "text": [
      "gnirts\n"
     ]
    }
   ],
   "source": [
    "#1) to \n",
    "\n",
    "# *** 1st way***\n",
    "s=input(\"enter the string:\")\n",
    "\n",
    "# print(s[::-1])\n",
    "\n",
    "# ***2nd way***\n",
    "\n",
    "print(\"\".join(reversed(s)))\n"
   ]
  },
  {
   "cell_type": "markdown",
   "metadata": {},
   "source": [
    "2) reverse the order of words"
   ]
  },
  {
   "cell_type": "code",
   "execution_count": 40,
   "metadata": {},
   "outputs": [
    {
     "name": "stdout",
     "output_type": "stream",
     "text": [
      "['dixitha', 'vishwaasrao']\n",
      "[]\n",
      "['vishwaasrao']\n",
      "['vishwaasrao', 'dixitha']\n",
      "vishwaasraodixitha\n"
     ]
    }
   ],
   "source": [
    "s=input(\"enter the string\")\n",
    "l=s.split()\n",
    "print(l)\n",
    "\n",
    "l1=[]\n",
    "i=len(l)-1\n",
    "print(l1)\n",
    "while i>=0:\n",
    "    l1.append(l[i])\n",
    "    i=i-1\n",
    "    print(l1)\n",
    "\n",
    "output=''.join(l1)\n",
    "print(output)    "
   ]
  },
  {
   "cell_type": "markdown",
   "metadata": {},
   "source": [
    "3) Reverse the internal content of each word"
   ]
  },
  {
   "cell_type": "code",
   "execution_count": 46,
   "metadata": {},
   "outputs": [
    {
     "name": "stdout",
     "output_type": "stream",
     "text": [
      "2\n",
      "['dixitha', 'vaibhav']\n",
      "[]\n",
      "['ahtixid']\n",
      "['ahtixid']\n",
      "['ahtixid', 'vahbiav']\n",
      "['ahtixid', 'vahbiav']\n",
      "['ahtixid', 'vahbiav']\n"
     ]
    }
   ],
   "source": [
    "s= input(\" enter the string :\")\n",
    "\n",
    "l=s.split()\n",
    "print(len(l))\n",
    "print(l)\n",
    "\n",
    "l1=[]\n",
    "i=0\n",
    "print(l1)\n",
    "while i<len(l):\n",
    "    l1.append(l[i][::-1])\n",
    "    print(l1)\n",
    "    i=i+1\n",
    "    print(l1)\n",
    "\n",
    "output=''.join(l1)\n",
    "print(l1)    "
   ]
  },
  {
   "cell_type": "markdown",
   "metadata": {},
   "source": [
    "4 ) print chara. to odd position and even position"
   ]
  },
  {
   "cell_type": "code",
   "execution_count": 50,
   "metadata": {},
   "outputs": [
    {
     "name": "stdout",
     "output_type": "stream",
     "text": [
      "chara. at even position: dxtavihv\n",
      "cha. at odd postion: iih aba\n"
     ]
    }
   ],
   "source": [
    "s=input(\"enter string:\")\n",
    "\n",
    "print(\"chara. at even position:\" ,s[0::2])\n",
    "print(\"cha. at odd postion:\",s[1::2])"
   ]
  },
  {
   "cell_type": "code",
   "execution_count": 64,
   "metadata": {},
   "outputs": [
    {
     "name": "stdout",
     "output_type": "stream",
     "text": [
      "odd n position words: ['my', 'is']\n",
      "even position words: ['naeme', 'dixitha']\n"
     ]
    }
   ],
   "source": [
    "s= input(\" enter string:\")\n",
    "\n",
    "l=s.split()\n",
    "# print(l)\n",
    "l_even=[]\n",
    "l_odd=[]\n",
    "i=1\n",
    "for a in l:\n",
    "    if i%2==0:\n",
    "        \n",
    "        \n",
    "        l_even.append(a)\n",
    "        \n",
    "\n",
    "    else:\n",
    "       l_odd.append(a)\n",
    "       \n",
    "    i=i+1\n",
    "print(\"odd n position words:\",l_odd)\n",
    "print(\"even position words:\",l_even)\n",
    "\n",
    "\n",
    "\n",
    "\n",
    "\n"
   ]
  },
  {
   "cell_type": "code",
   "execution_count": 65,
   "metadata": {},
   "outputs": [],
   "source": [
    "# s=\"dixitha\"\n",
    "\n",
    "# d={}\n",
    "\n",
    "# for a in s:\n",
    "#     if  a in d:\n",
    "#         d[a]+=1\n",
    "\n",
    "#     else:\n",
    "#         d[a]=1\n",
    "\n",
    "# duplicated={a : count for a,co}            \n"
   ]
  },
  {
   "cell_type": "markdown",
   "metadata": {},
   "source": [
    "5) merge char.of two strings into single string by taking chara.alternatively"
   ]
  },
  {
   "cell_type": "code",
   "execution_count": 71,
   "metadata": {},
   "outputs": [
    {
     "name": "stdout",
     "output_type": "stream",
     "text": [
      "e netnetre r  ssttrriinngg  12::\n"
     ]
    }
   ],
   "source": [
    "\n",
    "\n",
    "\n",
    "\n",
    "\n"
   ]
  },
  {
   "cell_type": "code",
   "execution_count": 74,
   "metadata": {},
   "outputs": [
    {
     "ename": "KeyboardInterrupt",
     "evalue": "Interrupted by user",
     "output_type": "error",
     "traceback": [
      "\u001b[1;31m---------------------------------------------------------------------------\u001b[0m",
      "\u001b[1;31mKeyboardInterrupt\u001b[0m                         Traceback (most recent call last)",
      "Cell \u001b[1;32mIn[74], line 1\u001b[0m\n\u001b[1;32m----> 1\u001b[0m s1\u001b[38;5;241m=\u001b[39m\u001b[38;5;28;43minput\u001b[39;49m\u001b[43m(\u001b[49m\u001b[38;5;124;43m\"\u001b[39;49m\u001b[38;5;124;43menter  string 1:\u001b[39;49m\u001b[38;5;124;43m\"\u001b[39;49m\u001b[43m)\u001b[49m\n\u001b[0;32m      3\u001b[0m s2\u001b[38;5;241m=\u001b[39m\u001b[38;5;28minput\u001b[39m(\u001b[38;5;124m\"\u001b[39m\u001b[38;5;124menter string 2:\u001b[39m\u001b[38;5;124m\"\u001b[39m)\n\u001b[0;32m      5\u001b[0m output\u001b[38;5;241m=\u001b[39m\u001b[38;5;124m'\u001b[39m\u001b[38;5;124m'\u001b[39m\n",
      "File \u001b[1;32m~\\AppData\\Roaming\\Python\\Python310\\site-packages\\ipykernel\\kernelbase.py:1282\u001b[0m, in \u001b[0;36mKernel.raw_input\u001b[1;34m(self, prompt)\u001b[0m\n\u001b[0;32m   1280\u001b[0m     msg \u001b[38;5;241m=\u001b[39m \u001b[38;5;124m\"\u001b[39m\u001b[38;5;124mraw_input was called, but this frontend does not support input requests.\u001b[39m\u001b[38;5;124m\"\u001b[39m\n\u001b[0;32m   1281\u001b[0m     \u001b[38;5;28;01mraise\u001b[39;00m StdinNotImplementedError(msg)\n\u001b[1;32m-> 1282\u001b[0m \u001b[38;5;28;01mreturn\u001b[39;00m \u001b[38;5;28;43mself\u001b[39;49m\u001b[38;5;241;43m.\u001b[39;49m\u001b[43m_input_request\u001b[49m\u001b[43m(\u001b[49m\n\u001b[0;32m   1283\u001b[0m \u001b[43m    \u001b[49m\u001b[38;5;28;43mstr\u001b[39;49m\u001b[43m(\u001b[49m\u001b[43mprompt\u001b[49m\u001b[43m)\u001b[49m\u001b[43m,\u001b[49m\n\u001b[0;32m   1284\u001b[0m \u001b[43m    \u001b[49m\u001b[38;5;28;43mself\u001b[39;49m\u001b[38;5;241;43m.\u001b[39;49m\u001b[43m_parent_ident\u001b[49m\u001b[43m[\u001b[49m\u001b[38;5;124;43m\"\u001b[39;49m\u001b[38;5;124;43mshell\u001b[39;49m\u001b[38;5;124;43m\"\u001b[39;49m\u001b[43m]\u001b[49m\u001b[43m,\u001b[49m\n\u001b[0;32m   1285\u001b[0m \u001b[43m    \u001b[49m\u001b[38;5;28;43mself\u001b[39;49m\u001b[38;5;241;43m.\u001b[39;49m\u001b[43mget_parent\u001b[49m\u001b[43m(\u001b[49m\u001b[38;5;124;43m\"\u001b[39;49m\u001b[38;5;124;43mshell\u001b[39;49m\u001b[38;5;124;43m\"\u001b[39;49m\u001b[43m)\u001b[49m\u001b[43m,\u001b[49m\n\u001b[0;32m   1286\u001b[0m \u001b[43m    \u001b[49m\u001b[43mpassword\u001b[49m\u001b[38;5;241;43m=\u001b[39;49m\u001b[38;5;28;43;01mFalse\u001b[39;49;00m\u001b[43m,\u001b[49m\n\u001b[0;32m   1287\u001b[0m \u001b[43m\u001b[49m\u001b[43m)\u001b[49m\n",
      "File \u001b[1;32m~\\AppData\\Roaming\\Python\\Python310\\site-packages\\ipykernel\\kernelbase.py:1325\u001b[0m, in \u001b[0;36mKernel._input_request\u001b[1;34m(self, prompt, ident, parent, password)\u001b[0m\n\u001b[0;32m   1322\u001b[0m \u001b[38;5;28;01mexcept\u001b[39;00m \u001b[38;5;167;01mKeyboardInterrupt\u001b[39;00m:\n\u001b[0;32m   1323\u001b[0m     \u001b[38;5;66;03m# re-raise KeyboardInterrupt, to truncate traceback\u001b[39;00m\n\u001b[0;32m   1324\u001b[0m     msg \u001b[38;5;241m=\u001b[39m \u001b[38;5;124m\"\u001b[39m\u001b[38;5;124mInterrupted by user\u001b[39m\u001b[38;5;124m\"\u001b[39m\n\u001b[1;32m-> 1325\u001b[0m     \u001b[38;5;28;01mraise\u001b[39;00m \u001b[38;5;167;01mKeyboardInterrupt\u001b[39;00m(msg) \u001b[38;5;28;01mfrom\u001b[39;00m \u001b[38;5;28;01mNone\u001b[39;00m\n\u001b[0;32m   1326\u001b[0m \u001b[38;5;28;01mexcept\u001b[39;00m \u001b[38;5;167;01mException\u001b[39;00m:\n\u001b[0;32m   1327\u001b[0m     \u001b[38;5;28mself\u001b[39m\u001b[38;5;241m.\u001b[39mlog\u001b[38;5;241m.\u001b[39mwarning(\u001b[38;5;124m\"\u001b[39m\u001b[38;5;124mInvalid Message:\u001b[39m\u001b[38;5;124m\"\u001b[39m, exc_info\u001b[38;5;241m=\u001b[39m\u001b[38;5;28;01mTrue\u001b[39;00m)\n",
      "\u001b[1;31mKeyboardInterrupt\u001b[0m: Interrupted by user"
     ]
    }
   ],
   "source": [
    "s1=input(\"enter  string 1:\")\n",
    "\n",
    "s2=input(\"enter string 2:\")\n",
    "\n",
    "output=''\n",
    "i,j=0,0\n",
    "\n",
    "while i<len(s1) or j<len(s2):\n",
    "    if i<len(s1):\n",
    "        output=output+s1[i]\n",
    "        i+=1\n",
    "\n",
    "    if j<len(s2):\n",
    "        output =output+s2[j]\n",
    "\n",
    "        j+=1\n",
    "\n",
    "print(output)          \n",
    "\n"
   ]
  },
  {
   "cell_type": "markdown",
   "metadata": {},
   "source": [
    " sort the cha of string .first chara. then numbers\n",
    " "
   ]
  },
  {
   "cell_type": "code",
   "execution_count": null,
   "metadata": {},
   "outputs": [],
   "source": [
    "s=input(\"enter the string:\")\n",
    "s1=s2=output=''\n",
    "for x in s:\n",
    "    if x.isal\n"
   ]
  }
 ],
 "metadata": {
  "kernelspec": {
   "display_name": "Python 3",
   "language": "python",
   "name": "python3"
  },
  "language_info": {
   "codemirror_mode": {
    "name": "ipython",
    "version": 3
   },
   "file_extension": ".py",
   "mimetype": "text/x-python",
   "name": "python",
   "nbconvert_exporter": "python",
   "pygments_lexer": "ipython3",
   "version": "3.10.6"
  }
 },
 "nbformat": 4,
 "nbformat_minor": 2
}
