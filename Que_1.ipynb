{
 "cells": [
  {
   "cell_type": "code",
   "execution_count": 13,
   "metadata": {},
   "outputs": [],
   "source": [
    "# write a python prog for finding out common letters between two string"
   ]
  },
  {
   "cell_type": "code",
   "execution_count": 14,
   "metadata": {},
   "outputs": [
    {
     "name": "stdout",
     "output_type": "stream",
     "text": [
      "{'d'}\n"
     ]
    }
   ],
   "source": [
    "# Eg:\n",
    "#NAINA,REENE\n",
    "\n",
    "def common_latters():\n",
    "    str1=input(\"Enter 1st string:\")\n",
    "    str2=input(\"Enter 2nd string:\")\n",
    "    s1=set(str1) # DUPLICATES HAS BEEN REMOVED AND WE GOT UNIQU LATTERS\n",
    "    s2=set(str2)\n",
    "# set is a collection type in Python that automatically removes duplicate elements, \n",
    "# meaning each letter will only appear once,\n",
    "# even if it appears multiple times in the string.\n",
    "    lst=s1&s2\n",
    "    print(lst)\n",
    "    # print(s1)\n",
    "    # print(s2)\n",
    "\n",
    "common_latters()    \n",
    "\n"
   ]
  },
  {
   "cell_type": "code",
   "execution_count": 19,
   "metadata": {},
   "outputs": [
    {
     "name": "stdout",
     "output_type": "stream",
     "text": [
      "{'dixitha': 0}\n"
     ]
    }
   ],
   "source": [
    "# COUNT A FREQUENCY OF WORDS APEERAING IN STRING\n",
    "\n",
    "def frequency_words():  # to count the frequency of each word \n",
    "    str=input(\"enter the string:\")\n",
    "    li=str.split()  # Splits the string into a list of words\n",
    "    d={}\n",
    "\n",
    "    # for i in li:  # Iterates through each word in the list\n",
    "    #     if i not in d.keys():  # Checks if the word is not already a key in the dictionary\n",
    "    #         d[i]=0\n",
    "\n",
    "    #     d[i]=d[i]+1\n",
    "\n",
    "    # for i in li:   not working as expected\n",
    "    #     d[i]=d.get(i,0)\n",
    "\n",
    "    print(d)  \n",
    "\n",
    "frequency_words()         \n",
    "\n",
    "\n"
   ]
  },
  {
   "cell_type": "code",
   "execution_count": 22,
   "metadata": {},
   "outputs": [
    {
     "name": "stdout",
     "output_type": "stream",
     "text": [
      "{1: 'one', 2: 'two', 3: 'three'}\n",
      "(1, 'one')\n",
      "(2, 'two')\n",
      "(3, 'three')\n"
     ]
    }
   ],
   "source": [
    "# To convrt two lists into dictionary\n",
    "\n",
    "def list_to_dict():\n",
    "    keys=[1,2,3]\n",
    "    value=['one','two','three']\n",
    "    result=dict(zip(keys,value)) # Combine the keys and values into a dictionary\n",
    "    print(result)\n",
    "\n",
    "\n",
    "list_to_dict()  \n",
    "\n",
    "\n",
    "# dictionary to tuple\n",
    "\n",
    "def dict_t_tuple():\n",
    "    x={1: 'one', 2: 'two', 3: 'three'}\n",
    "    for i in x.items():   # Iterate over the dictionary's items (key-value pairs)\n",
    "        print(i)\n",
    "\n",
    "dict_t_tuple()        \n",
    "\n",
    "\n",
    "\n"
   ]
  },
  {
   "cell_type": "code",
   "execution_count": 23,
   "metadata": {},
   "outputs": [],
   "source": [
    "# finding missing number in array\n",
    "\n",
    "# 1) using summation: sum of n natural number/numbers\n",
    "\n",
    "# n*(n+1)/2\n",
    "\n",
    "# 2)Xor method:\n",
    "\n",
    "\n"
   ]
  },
  {
   "cell_type": "code",
   "execution_count": null,
   "metadata": {},
   "outputs": [],
   "source": [
    "# fond out pair with given sum value of array\n",
    "\n",
    "arr"
   ]
  }
 ],
 "metadata": {
  "kernelspec": {
   "display_name": "Python 3",
   "language": "python",
   "name": "python3"
  },
  "language_info": {
   "codemirror_mode": {
    "name": "ipython",
    "version": 3
   },
   "file_extension": ".py",
   "mimetype": "text/x-python",
   "name": "python",
   "nbconvert_exporter": "python",
   "pygments_lexer": "ipython3",
   "version": "3.10.6"
  }
 },
 "nbformat": 4,
 "nbformat_minor": 2
}
